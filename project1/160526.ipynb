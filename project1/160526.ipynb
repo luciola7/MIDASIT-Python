{
 "cells": [
  {
   "cell_type": "code",
   "execution_count": 67,
   "metadata": {
    "collapsed": true
   },
   "outputs": [],
   "source": [
    "import http.client\n",
    "import urllib.parse"
   ]
  },
  {
   "cell_type": "code",
   "execution_count": 68,
   "metadata": {
    "collapsed": true
   },
   "outputs": [],
   "source": [
    "login_url = 'https://kor.midasuser.com/building/membership/login_ok.asp'"
   ]
  },
  {
   "cell_type": "code",
   "execution_count": 69,
   "metadata": {
    "collapsed": true
   },
   "outputs": [],
   "source": [
    "url_value = '?redirect=/building/support/faq_view.asp?idx=89423&nPage=1&strNo=194&sk=&bid=119&strCate=&strCate2='"
   ]
  },
  {
   "cell_type": "code",
   "execution_count": 151,
   "metadata": {
    "collapsed": true
   },
   "outputs": [],
   "source": [
    "full_url = login_url + url_value"
   ]
  },
  {
   "cell_type": "code",
   "execution_count": 152,
   "metadata": {
    "collapsed": true
   },
   "outputs": [],
   "source": [
    "params = urllib.parse.urlencode({'strID' : 'superbsung', 'strPWD' : '1234'})"
   ]
  },
  {
   "cell_type": "code",
   "execution_count": 153,
   "metadata": {
    "collapsed": true
   },
   "outputs": [],
   "source": [
    "params = params.encode('utf-8')"
   ]
  },
  {
   "cell_type": "code",
   "execution_count": 154,
   "metadata": {
    "collapsed": false
   },
   "outputs": [
    {
     "data": {
      "text/plain": [
       "'https://kor.midasuser.com/building/membership/login_ok.asp?redirect=/building/support/faq_view.asp?idx=89423&nPage=1&strNo=194&sk=&bid=119&strCate=&strCate2='"
      ]
     },
     "execution_count": 154,
     "metadata": {},
     "output_type": "execute_result"
    }
   ],
   "source": [
    "full_url"
   ]
  },
  {
   "cell_type": "code",
   "execution_count": 155,
   "metadata": {
    "collapsed": true
   },
   "outputs": [],
   "source": [
    "req = urllib.request.Request(full_url, params)"
   ]
  },
  {
   "cell_type": "code",
   "execution_count": 161,
   "metadata": {
    "collapsed": false
   },
   "outputs": [
    {
     "name": "stdout",
     "output_type": "stream",
     "text": [
      "https://kor.midasuser.com/building/membership/login_ok.asp?redirect=/building/support/faq_view.asp?idx=89423&nPage=1&strNo=194&sk=&bid=119&strCate=&strCate2=\n"
     ]
    }
   ],
   "source": [
    "with urllib.request.urlopen(req) as response:\n",
    "    the_page = response.readlines()\n",
    "    output = response.geturl()\n",
    "    print(output)"
   ]
  },
  {
   "cell_type": "code",
   "execution_count": 163,
   "metadata": {
    "collapsed": false
   },
   "outputs": [
    {
     "name": "stdout",
     "output_type": "stream",
     "text": [
      "b'\\r\\n<meta http-equiv=\"content-type\" content=\"text/html; charset=utf-8\">\\r\\n<script language=\\'javascript\\'>alert(\\'The ID does not exist.\\');location.href=\\'/support/index.asp\\';</script>'\n"
     ]
    }
   ],
   "source": [
    "with urllib.request.urlopen(output) as f:\n",
    "    print(f.read())"
   ]
  },
  {
   "cell_type": "code",
   "execution_count": 1,
   "metadata": {
    "collapsed": true
   },
   "outputs": [],
   "source": [
    "with open('sample_page.html', mode='r', encoding='utf-8') as fin:\n",
    "    html_text = fin.read()"
   ]
  },
  {
   "cell_type": "code",
   "execution_count": 3,
   "metadata": {
    "collapsed": false
   },
   "outputs": [],
   "source": [
    "from bs4 import BeautifulSoup"
   ]
  },
  {
   "cell_type": "code",
   "execution_count": 6,
   "metadata": {
    "collapsed": false
   },
   "outputs": [],
   "source": [
    "html_text = html_text.encode()"
   ]
  },
  {
   "cell_type": "code",
   "execution_count": 8,
   "metadata": {
    "collapsed": false
   },
   "outputs": [],
   "source": [
    "soup = BeautifulSoup(html_text, 'html.parser')"
   ]
  },
  {
   "cell_type": "code",
   "execution_count": 28,
   "metadata": {
    "collapsed": false
   },
   "outputs": [],
   "source": [
    "question = soup.font.text"
   ]
  },
  {
   "cell_type": "code",
   "execution_count": 29,
   "metadata": {
    "collapsed": false
   },
   "outputs": [],
   "source": [
    "answer = soup.p.text"
   ]
  },
  {
   "cell_type": "code",
   "execution_count": 31,
   "metadata": {
    "collapsed": false
   },
   "outputs": [
    {
     "name": "stdout",
     "output_type": "stream",
     "text": [
      "Q: \n",
      "ADS에서 지상1층, 지하1층 plan 상에서는 없던 절점이 3D Model View로 확인하면 Plan에 없던 절점이 생성되고 삭제가 되지 않습니다. 설계결과에 영향을 미치는 것은 아닌가요?\n",
      "A: \n",
      "설계결과에 영향을 미치지는 않습니다. 단 사용자에게 혼란을 유발할 수 있으므로 가급적이면 모델링을 할 때 원점에서 시작하는 것이 좋습니다.3D Model View는 입력된 모델정보를 이용하여 3차원 해석모델을 자동으로 생성하여 보여주는 기능입니다. 이 모드에서는 모델데이터를 추가하거나 변경할 수 없습니다. 또한 3D Model View에서 생기는 절점은 프로그램이 해석을 하기 위하여 자동으로 요소를 나누어 메쉬를 생성하거나 Rigid Diaphragm이 생성되는 등의 이유로 형성되며 설계결과에 잘못된 영향을 미치지는 않습니다. 간혹 구조물 외부에 자동으로 절점이 형성되는 경우가 있는데, 이것은 모델링을 원점에서 시작하지 않고 멀리 떨어진 곳에서 모델링을 하면 발생할 수 있는 현상입니다. 사용자가 질량을 고려하지 않도록 선택한 층(ex. 1층이나 지하층의 경우 등)의 Slab Type을 Rigid Diaphragm으로 설정하게 되면 Diaphragm의 중심이 자동으로 원점 주변에 잡히게 되면서 생성되는 절점일 수 있습니다.\n",
      "\n",
      "그림 1. Model view(Rigid Diaphragm)\n",
      "\n"
     ]
    }
   ],
   "source": [
    "print('Q: ')\n",
    "print(question)\n",
    "print('A: ')\n",
    "print(answer)"
   ]
  },
  {
   "cell_type": "code",
   "execution_count": null,
   "metadata": {
    "collapsed": true
   },
   "outputs": [],
   "source": []
  }
 ],
 "metadata": {
  "kernelspec": {
   "display_name": "Python 3",
   "language": "python",
   "name": "python3"
  },
  "language_info": {
   "codemirror_mode": {
    "name": "ipython",
    "version": 3
   },
   "file_extension": ".py",
   "mimetype": "text/x-python",
   "name": "python",
   "nbconvert_exporter": "python",
   "pygments_lexer": "ipython3",
   "version": "3.5.0"
  }
 },
 "nbformat": 4,
 "nbformat_minor": 0
}
